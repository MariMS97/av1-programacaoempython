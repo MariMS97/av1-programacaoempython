{
 "cells": [
  {
   "cell_type": "markdown",
   "metadata": {},
   "source": [
    "# Atividades Práticas\n",
    "\n",
    "[Aprenda Python com Jupyter](https://github.com/jeanto/python_programming_course_notebook) by [Jean Nunes](https://jeanto.github.io/jeannunes)   \n",
    "Code license: [GNU-GPL v3](https://www.gnu.org/licenses/gpl-3.0.en.html)"
   ]
  },
  {
   "cell_type": "markdown",
   "metadata": {},
   "source": [
    "---\n",
    "### 1. Crie o menu principal do SNDO (Sistema Nacional de Doação de Órgãos e Tecidos) com as seguintes opções:\n",
    "\n",
    "1.  Cadastrar potencial doador\n",
    "2.  Adicionar doação\n",
    "3.  Processar doação (encaminhar para transplante) \n",
    "4.  Exibir estoque atual dos Centros de Distribuição\n",
    "5.  Exibir histórico de doações\n",
    "6.  Finalizar aplicação\n",
    "\n",
    "\n",
    "#### Referência: [01_string_input_print.ipynb](../01_string_input_print.ipynb)\n",
    "---"
   ]
  },
  {
   "cell_type": "code",
   "execution_count": 21,
   "metadata": {},
   "outputs": [
    {
     "name": "stdout",
     "output_type": "stream",
     "text": [
      "𝙱𝚎𝚖 𝚟𝚒𝚗𝚍𝚘𝚜 𝚊𝚘 𝚂𝙽𝙳𝙾𝚃 (𝚂𝚒𝚜𝚝𝚎𝚖𝚊 𝙽𝚊𝚌𝚒𝚘𝚗𝚊𝚕 𝚍𝚎 𝙳𝚘𝚊𝚌̧𝚊̃𝚘 𝚍𝚎 𝙾𝚛𝚐𝚊̃𝚘𝚜 𝚎 𝚃𝚎𝚌𝚒𝚍𝚘𝚜)!\n",
      "\n",
      "      𝟷. 𝙲𝚊𝚍𝚊𝚜𝚝𝚛𝚘 𝚍𝚘 𝚍𝚘𝚊𝚍𝚘𝚛\n",
      "      𝟸. 𝙰𝚍𝚒𝚌𝚒𝚘𝚗𝚊𝚛 𝚍𝚘𝚊𝚌̧𝚊̃𝚘\n",
      "      𝟹. 𝙿𝚛𝚘𝚌𝚎𝚜𝚜𝚊𝚛 𝚍𝚘𝚊𝚌̧𝚊̃𝚘 (𝚎𝚗𝚌𝚊𝚖𝚒𝚗𝚑𝚊𝚛 𝚙𝚊𝚛𝚊 𝚝𝚛𝚊𝚗𝚜𝚙𝚕𝚊𝚗𝚝𝚎)\n",
      "      𝟺. 𝙴𝚡𝚒𝚋𝚒𝚛 𝚎𝚜𝚝𝚘𝚚𝚞𝚎 𝚊𝚝𝚞𝚊𝚕 𝚍𝚘𝚜 𝙲𝚎𝚗𝚝𝚛𝚘𝚜 𝚍𝚎 𝙳𝚒𝚜𝚝𝚛𝚒𝚋𝚞𝚒𝚌̧𝚊̃𝚘\n",
      "      𝟻. 𝙴𝚡𝚒𝚋𝚒𝚛 𝚑𝚒𝚜𝚝𝚘́𝚛𝚒𝚌𝚘 𝚍𝚎 𝚍𝚘𝚊𝚌̧𝚘̃𝚎𝚜\n",
      "      𝟼. 𝙵𝚒𝚗𝚊𝚕𝚒𝚣𝚊𝚛 𝚊𝚙𝚕𝚒𝚌𝚊𝚌̧𝚊̃𝚘\n"
     ]
    }
   ],
   "source": [
    "print(\"𝙱𝚎𝚖 𝚟𝚒𝚗𝚍𝚘𝚜 𝚊𝚘 𝚂𝙽𝙳𝙾𝚃 (𝚂𝚒𝚜𝚝𝚎𝚖𝚊 𝙽𝚊𝚌𝚒𝚘𝚗𝚊𝚕 𝚍𝚎 𝙳𝚘𝚊𝚌̧𝚊̃𝚘 𝚍𝚎 𝙾𝚛𝚐𝚊̃𝚘𝚜 𝚎 𝚃𝚎𝚌𝚒𝚍𝚘𝚜)!\")\n",
    "print('''\n",
    "      𝟷. 𝙲𝚊𝚍𝚊𝚜𝚝𝚛𝚘 𝚍𝚘 𝚍𝚘𝚊𝚍𝚘𝚛\n",
    "      𝟸. 𝙰𝚍𝚒𝚌𝚒𝚘𝚗𝚊𝚛 𝚍𝚘𝚊𝚌̧𝚊̃𝚘\n",
    "      𝟹. 𝙿𝚛𝚘𝚌𝚎𝚜𝚜𝚊𝚛 𝚍𝚘𝚊𝚌̧𝚊̃𝚘 (𝚎𝚗𝚌𝚊𝚖𝚒𝚗𝚑𝚊𝚛 𝚙𝚊𝚛𝚊 𝚝𝚛𝚊𝚗𝚜𝚙𝚕𝚊𝚗𝚝𝚎)\n",
    "      𝟺. 𝙴𝚡𝚒𝚋𝚒𝚛 𝚎𝚜𝚝𝚘𝚚𝚞𝚎 𝚊𝚝𝚞𝚊𝚕 𝚍𝚘𝚜 𝙲𝚎𝚗𝚝𝚛𝚘𝚜 𝚍𝚎 𝙳𝚒𝚜𝚝𝚛𝚒𝚋𝚞𝚒𝚌̧𝚊̃𝚘\n",
    "      𝟻. 𝙴𝚡𝚒𝚋𝚒𝚛 𝚑𝚒𝚜𝚝𝚘́𝚛𝚒𝚌𝚘 𝚍𝚎 𝚍𝚘𝚊𝚌̧𝚘̃𝚎𝚜\n",
    "      𝟼. 𝙵𝚒𝚗𝚊𝚕𝚒𝚣𝚊𝚛 𝚊𝚙𝚕𝚒𝚌𝚊𝚌̧𝚊̃𝚘''')\t"
   ]
  },
  {
   "cell_type": "markdown",
   "metadata": {},
   "source": [
    "### 2. Crie um formulário de cadastro de pontencial doadores com os seguintes dados:\n",
    "\n",
    "### Dados Pessoais\n",
    "- Nome\n",
    "- Idade\n",
    "- Sexo\n",
    "- Data de Nascimento\n",
    "- Estado de Nascimento\n",
    "- CPF\n",
    "- Estado Civil\n",
    "- Cidade/Estado de Nascimento\n",
    "- Profissão\n",
    "- Tipo Sanguíneo \n",
    "\n",
    "### Contato\n",
    "- Telefone\n",
    "- Email\n",
    "\n",
    "### Endereço Atual\n",
    "- Rua\n",
    "- Número\n",
    "- Cidade\n",
    "- Estado\n",
    "- CEP\n",
    "- Complemento\n",
    "\n",
    "\n",
    "\n",
    "#### Referência: [02_vars.ipynb](../02_vars.ipynb)\n",
    "---"
   ]
  },
  {
   "cell_type": "code",
   "execution_count": 22,
   "metadata": {},
   "outputs": [
    {
     "name": "stdout",
     "output_type": "stream",
     "text": [
      "Dados Pessoais:\n",
      "Nome: \n",
      "Idade: \n",
      "Sexo\n",
      "Data de Nascimento: \n",
      "Cidade de Nascimento: \n",
      "Estado de Nascimento: \n",
      "CPF\n",
      "Estado Civil: \n",
      "Profissão: \n",
      "Tipo Sanguíneo: \n",
      "\n",
      "Contato:\n",
      "Telefone: \n",
      "Email: \n",
      "\n",
      "Endereço Atual:\n",
      "Rua: \n",
      "Número: \n",
      "Cidade: \n",
      "Estado: \n",
      "CEP: \n",
      "Complemento: \n"
     ]
    }
   ],
   "source": [
    "#Dados pessoais\n",
    "\n",
    "nome = input(\"Informe o seu nome: \")\n",
    "idade = input(\"Qual a sua idade: \")\n",
    "sexo = input(\"Qual o seu sexo (Masculino/Feminino): \")\n",
    "data_nascimento = input(\"Qual a sua data de nascimento (dd/mm/aaaa): \")\n",
    "cidade_nascimento = input(\"Qual a sua cidade de nascimento: \")\n",
    "estado_nascimento = input(\"Qual o seu estado de nascimento: \")\n",
    "cpf = input(\"Qual o seu CPF: \")\n",
    "estado_civil = input(\"Qual o seu estado civil: \")\n",
    "profissao = input(\"Qual a sua profissão: \")\n",
    "tipo_sanguineo = input(\"Qual o seu tipo sanguíneo: \")\n",
    "\n",
    "# Contato\n",
    "\n",
    "telefone = input(\"Qual o seu telefone: \")\n",
    "email = input(\"Qual o seu email: \")\n",
    "\n",
    "# Endereço Atual\n",
    "\n",
    "rua = input(\"Qual a sua rua: \")\n",
    "numero = input(\"Número: \")\n",
    "cidade = input(\"Qual a sua cidade: \")\n",
    "estado = input(\"Qual o seu estado: \")\n",
    "cep = input(\"Qual o seu CEP: \")\n",
    "complemento = input(\"Complemento: \")\n",
    "\n",
    "print(\"Dados Pessoais:\")\n",
    "print(f\"Nome: {nome}\")\n",
    "print(f\"Idade: {idade}\")\n",
    "print(f\"Sexo{sexo}\")\n",
    "print(f\"Data de Nascimento: {data_nascimento}\")\n",
    "print(f\"Cidade de Nascimento: {cidade_nascimento}\")\n",
    "print(f\"Estado de Nascimento: {estado_nascimento}\")\n",
    "print(f\"CPF{cpf}\")\n",
    "print(f\"Estado Civil: {estado_civil}\")\n",
    "print(f\"Profissão: {profissao}\")\n",
    "print(f\"Tipo Sanguíneo: {tipo_sanguineo}\")\n",
    "\n",
    "print(\"\\nContato:\")\n",
    "print(f\"Telefone: {telefone}\")\n",
    "print(f\"Email: {email}\")\n",
    "\n",
    "print(\"\\nEndereço Atual:\")\n",
    "\n",
    "print(f\"Rua: {rua}\")\n",
    "print(f\"Número: {numero}\")\n",
    "print(f\"Cidade: {cidade}\")\n",
    "print(f\"Estado: {estado}\")\n",
    "print(f\"CEP: {cep}\")\n",
    "print(f\"Complemento: {complemento}\")"
   ]
  },
  {
   "cell_type": "markdown",
   "metadata": {},
   "source": [
    "### 3. Com o menu principal do SNDOT criado, solicite a opção do menu que o usuário deseja utilizar e faça as verificações usando if, elif e else:"
   ]
  },
  {
   "cell_type": "code",
   "execution_count": 25,
   "metadata": {},
   "outputs": [
    {
     "name": "stdout",
     "output_type": "stream",
     "text": [
      "𝙱𝚎𝚖 𝚟𝚒𝚗𝚍𝚘𝚜 𝚊𝚘 𝚂𝙽𝙳𝙾𝚃 (𝚂𝚒𝚜𝚝𝚎𝚖𝚊 𝙽𝚊𝚌𝚒𝚘𝚗𝚊𝚕 𝚍𝚎 𝙳𝚘𝚊𝚌̧𝚊̃𝚘 𝚍𝚎 𝙾𝚛𝚐𝚊̃𝚘𝚜 𝚎 𝚃𝚎𝚌𝚒𝚍𝚘𝚜)!\n",
      "\n",
      "      𝟷. 𝙲𝚊𝚍𝚊𝚜𝚝𝚛𝚘 𝚍𝚘 𝚍𝚘𝚊𝚍𝚘𝚛\n",
      "      𝟸. 𝙰𝚍𝚒𝚌𝚒𝚘𝚗𝚊𝚛 𝚍𝚘𝚊𝚌̧𝚊̃𝚘\n",
      "      𝟹. 𝙿𝚛𝚘𝚌𝚎𝚜𝚜𝚊𝚛 𝚍𝚘𝚊𝚌̧𝚊̃𝚘 (𝚎𝚗𝚌𝚊𝚖𝚒𝚗𝚑𝚊𝚛 𝚙𝚊𝚛𝚊 𝚝𝚛𝚊𝚗𝚜𝚙𝚕𝚊𝚗𝚝𝚎)\n",
      "      𝟺. 𝙴𝚡𝚒𝚋𝚒𝚛 𝚎𝚜𝚝𝚘𝚚𝚞𝚎 𝚊𝚝𝚞𝚊𝚕 𝚍𝚘𝚜 𝙲𝚎𝚗𝚝𝚛𝚘𝚜 𝚍𝚎 𝙳𝚒𝚜𝚝𝚛𝚒𝚋𝚞𝚒𝚌̧𝚊̃𝚘\n",
      "      𝟻. 𝙴𝚡𝚒𝚋𝚒𝚛 𝚑𝚒𝚜𝚝𝚘́𝚛𝚒𝚌𝚘 𝚍𝚎 𝚍𝚘𝚊𝚌̧𝚘̃𝚎𝚜\n",
      "      𝟼. 𝙵𝚒𝚗𝚊𝚕𝚒𝚣𝚊𝚛 𝚊𝚙𝚕𝚒𝚌𝚊𝚌̧𝚊̃𝚘\n",
      "Cadastro do doador\n"
     ]
    }
   ],
   "source": [
    "print(\"𝙱𝚎𝚖 𝚟𝚒𝚗𝚍𝚘𝚜 𝚊𝚘 𝚂𝙽𝙳𝙾𝚃 (𝚂𝚒𝚜𝚝𝚎𝚖𝚊 𝙽𝚊𝚌𝚒𝚘𝚗𝚊𝚕 𝚍𝚎 𝙳𝚘𝚊𝚌̧𝚊̃𝚘 𝚍𝚎 𝙾𝚛𝚐𝚊̃𝚘𝚜 𝚎 𝚃𝚎𝚌𝚒𝚍𝚘𝚜)!\")\n",
    "print('''\n",
    "      𝟷. 𝙲𝚊𝚍𝚊𝚜𝚝𝚛𝚘 𝚍𝚘 𝚍𝚘𝚊𝚍𝚘𝚛\n",
    "      𝟸. 𝙰𝚍𝚒𝚌𝚒𝚘𝚗𝚊𝚛 𝚍𝚘𝚊𝚌̧𝚊̃𝚘\n",
    "      𝟹. 𝙿𝚛𝚘𝚌𝚎𝚜𝚜𝚊𝚛 𝚍𝚘𝚊𝚌̧𝚊̃𝚘 (𝚎𝚗𝚌𝚊𝚖𝚒𝚗𝚑𝚊𝚛 𝚙𝚊𝚛𝚊 𝚝𝚛𝚊𝚗𝚜𝚙𝚕𝚊𝚗𝚝𝚎)\n",
    "      𝟺. 𝙴𝚡𝚒𝚋𝚒𝚛 𝚎𝚜𝚝𝚘𝚚𝚞𝚎 𝚊𝚝𝚞𝚊𝚕 𝚍𝚘𝚜 𝙲𝚎𝚗𝚝𝚛𝚘𝚜 𝚍𝚎 𝙳𝚒𝚜𝚝𝚛𝚒𝚋𝚞𝚒𝚌̧𝚊̃𝚘\n",
    "      𝟻. 𝙴𝚡𝚒𝚋𝚒𝚛 𝚑𝚒𝚜𝚝𝚘́𝚛𝚒𝚌𝚘 𝚍𝚎 𝚍𝚘𝚊𝚌̧𝚘̃𝚎𝚜\n",
    "      𝟼. 𝙵𝚒𝚗𝚊𝚕𝚒𝚣𝚊𝚛 𝚊𝚙𝚕𝚒𝚌𝚊𝚌̧𝚊̃𝚘''')\t\n",
    "\n",
    "# Escolha de uma opção pelo usuário\n",
    "opcao = int(input(\"Escolha uma opção: \"))\n",
    "if opcao == 1:\n",
    "    print(\"Cadastro do doador\")\n",
    "elif opcao == 2:\n",
    "    print(\"Adicionar doação\")\n",
    "elif opcao == 3:\n",
    "    print(\"Processar doação (encaminhar para transplante)\")\n",
    "elif opcao == 4:\n",
    "    print(\"Exibir estoque atual dos Centros de Distribuição\")\n",
    "elif opcao == 5:\n",
    "    print(\"Exibir histórico de doações\")\n",
    "elif opcao == 6:\n",
    "    print(\"Finalizar aplicação\")\n"
   ]
  },
  {
   "cell_type": "markdown",
   "metadata": {},
   "source": [
    "### Na opção 01, realize as seguintes validações e controles nos dados de entrada\n",
    "\n",
    "### Dados Pessoais\n",
    "- Nome: deve conter apenas caracteres alfabéticos \n",
    "- Idade: deve conter apenas números, não pode ser negativo e nem superior a 80 anos\n",
    "- Sexo: deve conter apenas um caractere igual a M ou F\n",
    "- Estado de Nascimento: deve conter apenas dois caracteres no formato de um dos 27 estados brasileiros\n",
    "- CPF: deve conter apenas 11 números no seguinte formato: xxx.xxx.xxx-xx\n",
    "\n",
    "### Contato\n",
    "- Telefone: deve conter apenas 10 ou 11 números (ex. 61943235345)\n",
    "\n",
    "\n",
    "\n",
    "#### Referência: [03_lists_if_in_else.ipynb](../03_lists_if_in_else.ipynb)\n",
    "---"
   ]
  },
  {
   "cell_type": "code",
   "execution_count": 26,
   "metadata": {},
   "outputs": [
    {
     "name": "stdout",
     "output_type": "stream",
     "text": [
      "Nome inválido. Deve conter apenas caracteres alfabéticos.\n",
      "Idade inválida. Deve ser um número entre 0 e 80.\n",
      "Sexo inválido. Deve ser 'M' ou 'F'.\n",
      "Estado de Nascimento inválido. Deve ser uma sigla válida de um dos 27 estados brasileiros.\n",
      "CPF inválido. Deve estar no formato xxx.xxx.xxx-xx.\n",
      "Telefone inválido. Deve conter 10 ou 11 números.\n"
     ]
    }
   ],
   "source": [
    "import re\n",
    "\n",
    "def validar_nome(nome):\n",
    "    # Verifica se o nome contém apenas caracteres alfabéticos e espaços\n",
    "    return bool(re.match(r'^[A-Za-zÀ-ú\\s]+$', nome))\n",
    "\n",
    "def validar_idade(idade):\n",
    "    # Verifica se a idade é um número entre 0 e 80\n",
    "    try:\n",
    "        idade = int(idade)\n",
    "        return 0 <= idade <= 80\n",
    "    except ValueError:\n",
    "        return False\n",
    "\n",
    "def validar_sexo(sexo):\n",
    "    # Verifica se o sexo é 'M' ou 'F'\n",
    "    return sexo.upper() in ['M', 'F']\n",
    "\n",
    "def validar_estado(estado):\n",
    "    # Lista dos 27 estados brasileiros\n",
    "    estados_brasileiros = [\n",
    "        'AC', 'AL', 'AP', 'AM', 'BA', 'CE', 'DF', 'ES', 'GO', 'MA', \n",
    "        'MT', 'MS', 'MG', 'PA', 'PB', 'PR', 'PE', 'PI', 'RJ', 'RN', \n",
    "        'RS', 'RO', 'RR', 'SC', 'SP', 'SE', 'TO'\n",
    "    ]\n",
    "    # Verifica se o estado está na lista\n",
    "    return estado.upper() in estados_brasileiros\n",
    "\n",
    "def validar_cpf(cpf):\n",
    "    # Verifica se o CPF está no formato xxx.xxx.xxx-xx\n",
    "    return bool(re.match(r'^\\d{3}\\.\\d{3}\\.\\d{3}-\\d{2}$', cpf))\n",
    "\n",
    "def validar_telefone(telefone):\n",
    "    # Verifica se o telefone tem 10 ou 11 dígitos numéricos\n",
    "    return bool(re.match(r'^\\d{10,11}$', telefone))\n",
    "\n",
    "nome = input(\"Nome: \")\n",
    "idade = input(\"Idade: \")\n",
    "sexo = input(\"Sexo (M/F): \")\n",
    "estado = input(\"Estado de Nascimento (sigla): \")\n",
    "cpf = input(\"CPF (xxx.xxx.xxx-xx): \")\n",
    "telefone = input(\"Telefone: \")\n",
    "\n",
    "if not validar_nome(nome):\n",
    "    print(\"Nome inválido. Deve conter apenas caracteres alfabéticos.\")\n",
    "if not validar_idade(idade):\n",
    "    print(\"Idade inválida. Deve ser um número entre 0 e 80.\")\n",
    "if not validar_sexo(sexo):\n",
    "    print(\"Sexo inválido. Deve ser 'M' ou 'F'.\")\n",
    "if not validar_estado(estado):\n",
    "    print(\"Estado de Nascimento inválido. Deve ser uma sigla válida de um dos 27 estados brasileiros.\")\n",
    "if not validar_cpf(cpf):\n",
    "    print(\"CPF inválido. Deve estar no formato xxx.xxx.xxx-xx.\")\n",
    "if not validar_telefone(telefone):\n",
    "    print(\"Telefone inválido. Deve conter 10 ou 11 números.\")\n",
    "\n",
    "# Se todas as validações passarem, os dados são considerados válidos\n",
    "else:\n",
    "    print(\"Todos os dados são válidos.\")"
   ]
  },
  {
   "cell_type": "markdown",
   "metadata": {},
   "source": [
    "### 4. Observe que o código abaixo não realiza a validação adequamente e pode inserir órgãos que já estão contidos na lista. Desenvolva a validação adequada para que isso não ocorra, ou seja, apenas órgãos que não estão na lista devem ser adicionados."
   ]
  },
  {
   "cell_type": "code",
   "execution_count": 27,
   "metadata": {},
   "outputs": [
    {
     "name": "stdout",
     "output_type": "stream",
     "text": [
      "mão adicionado com sucesso na lista de órgões que podem ser doados.\n",
      "['Coração', 'Rins', 'Fígado', 'Pâncreas', 'Pulmões', 'mão']\n"
     ]
    }
   ],
   "source": [
    "lista_de_orgaos = [\"Coração\", \"Rins\",  \"Fígado\", \"Pâncreas\", \"Pulmões\"]\n",
    "\n",
    "orgao_para_adicionar = input(\"Qual órgão você deseja adicionar na lista de órgãos?\\nCaso tenha mais de um órgão, separe-os por vírgula (Ex. 'Coracao, Pulmao, Pele').\")\n",
    "\n",
    "nova_lista_de_orgaos = orgao_para_adicionar.split(\", \")\n",
    "\n",
    "if nova_lista_de_orgaos in lista_de_orgaos:\n",
    "    print(f\"{orgao_para_adicionar} já está na lista de órgões que podem ser doados.\")\n",
    "    print(lista_de_orgaos) \n",
    "else:\n",
    "    lista_de_orgaos.extend(nova_lista_de_orgaos)\n",
    "    print(f\"{orgao_para_adicionar} adicionado com sucesso na lista de órgões que podem ser doados.\")\n",
    "    print(lista_de_orgaos)"
   ]
  },
  {
   "cell_type": "markdown",
   "metadata": {},
   "source": [
    "#### Referência: [04_lists_append_remove.ipynb](../04_lists_append_remove.ipynb)\n",
    "\n",
    "---"
   ]
  },
  {
   "cell_type": "code",
   "execution_count": 28,
   "metadata": {},
   "outputs": [
    {
     "name": "stdout",
     "output_type": "stream",
     "text": [
      "'mão' já existe na lista de órgãos que podem ser doados.\n",
      "Lista atualizada de órgãos: ['Coração', 'Rins', 'Fígado', 'Pâncreas', 'Pulmões', 'mão']\n"
     ]
    }
   ],
   "source": [
    "orgao_para_adicionar = input(\"Qual órgão você deseja adicionar na lista de órgãos?\\nCaso tenha mais de um órgão, separe-os por vírgula (Ex. 'Coracao, Pulmao, Pele').\")\n",
    "\n",
    "\n",
    "# Divide a entrada do usuário em uma lista de órgãos\n",
    "orgaos = [orgao.strip() for orgao in orgao_para_adicionar.split(\",\")]\n",
    "\n",
    "# Itera sobre cada órgão fornecido pelo usuário\n",
    "for orgao in orgaos:\n",
    "    # Verifica se o órgão já está na lista\n",
    "    if orgao in lista_de_orgaos:\n",
    "        print(f\"'{orgao}' já existe na lista de órgãos que podem ser doados.\")\n",
    "    else:\n",
    "        # Adiciona o órgão à lista se ele não estiver presente\n",
    "        lista_de_orgaos.append(orgao)\n",
    "        print(f\"'{orgao}' adicionado com sucesso na lista de órgãos que podem ser doados.\")\n",
    "\n",
    "# Exibe a lista atualizada de órgãos\n",
    "print(\"Lista atualizada de órgãos:\", lista_de_orgaos)"
   ]
  },
  {
   "cell_type": "markdown",
   "metadata": {},
   "source": [
    "### 5. Utilizando os métodos da classe <list> e a partir da lista geral de órgãos, crie a seguinte lista de um potencial doador:\n",
    "\n",
    "##### Roberto: Rins, Fígado, Intestino, Medula Óssea\n",
    "\n",
    "\n",
    "#### Referência: [05_lists_index_pop_insert.ipynb](../05_lists_index_pop_insert.ipynb)\n",
    "---"
   ]
  },
  {
   "cell_type": "code",
   "execution_count": 29,
   "metadata": {},
   "outputs": [
    {
     "name": "stdout",
     "output_type": "stream",
     "text": [
      "Roberto: ['Rins', 'Fígado', 'Intestino', 'Medula Óssea']\n"
     ]
    }
   ],
   "source": [
    "roberto_orgaos = [\"Rins\",\"Fígado\",\"Intestino\",\"Medula Óssea\"]\n",
    "\n",
    "for orgao in roberto_orgaos:\n",
    "    if orgao in lista_de_orgaos:\n",
    "        index = lista_de_orgaos.index(orgao)\n",
    "        lista_de_orgaos.pop(index)\n",
    "\n",
    "print(\"Roberto:\", roberto_orgaos)"
   ]
  },
  {
   "cell_type": "markdown",
   "metadata": {},
   "source": [
    "### 6. Utilizando slicing, crie uma lista com os 3 centros de distribuição de órgãos (Brasília, Fortaleza e São Paulo) a partir da lista das capitais .\n",
    "\n",
    "\n",
    "#### Referência: [06_lists_slicing.ipynb](../06_lists_slicing.ipynb)\n",
    "---"
   ]
  },
  {
   "cell_type": "code",
   "execution_count": 30,
   "metadata": {},
   "outputs": [],
   "source": [
    "# Lista das capitais do Brasil\n",
    "capitais_brasil = [\n",
    "    \"Rio Branco\", \"Maceió\", \"Macapá\", \"Manaus\", \"Salvador\", \"Fortaleza\",\n",
    "    \"Brasília\", \"Vitória\", \"Goiânia\", \"São Luís\", \"Cuiabá\", \"Campo Grande\",\n",
    "    \"Belo Horizonte\", \"Belém\", \"João Pessoa\", \"Curitiba\", \"Recife\",\n",
    "    \"Teresina\", \"Rio de Janeiro\", \"Natal\", \"Porto Alegre\", \"Porto Velho\",\n",
    "    \"Boa Vista\", \"Florianópolis\", \"São Paulo\", \"Aracaju\", \"Palmas\"\n",
    "]"
   ]
  },
  {
   "cell_type": "code",
   "execution_count": 31,
   "metadata": {},
   "outputs": [
    {
     "name": "stdout",
     "output_type": "stream",
     "text": [
      "['Brasília', 'Fortaleza', 'São Paulo']\n"
     ]
    }
   ],
   "source": [
    "centros_distribuicao = [capitais_brasil[6], capitais_brasil[5], capitais_brasil[24]]\n",
    "print(centros_distribuicao)"
   ]
  },
  {
   "cell_type": "markdown",
   "metadata": {},
   "source": [
    "### 7. Considerando as formas de interação usando for (range, list e enumerate): \n",
    "\n",
    "I. Imprima cada órgão com o seu respectivo tipo de órgão:\n",
    "\n",
    "Exemplo:\n",
    "\n",
    "- [0]: \"Coração\" é do tipo \"Órgão\"\n",
    "- ...\n",
    "- [6]: \"Pele\" é do tipo \"Tecido\"\n",
    "- ...\n",
    "\n",
    "II. Realize a mesma impressão acima de modo que a interação seja feita nas duas listas.\n",
    "\n",
    "\n",
    "#### Referência: [07_for_range.ipynb](../07_for_range.ipynb)\n",
    "---"
   ]
  },
  {
   "cell_type": "code",
   "execution_count": 32,
   "metadata": {},
   "outputs": [],
   "source": [
    "lista_de_orgaos = [\"Coração\", \"Rins\",  \"Fígado\", \"Pâncreas\", \"Pulmões\", \"Intestino\", \n",
    "                   \"Córneas\", \"Pele\", \"Ossos\", \"Válvulas cardíacas\", \"Cartilagem\", \"Medula Óssea\", \n",
    "                   \"Tendões\", \"Vasos Sanguíneos\", \"Sangue de Cordão Umbilical\", \"Sangue Universal\"]\n",
    "lista_de_tipos_de_orgao = [\"Órgão\", \"Órgão\", \"Órgão\", \"Órgão\", \"Órgão\", \"Órgão\",\n",
    "                           \"Tecido\", \"Tecido\", \"Tecido\", \"Tecido\", \"Tecido\", \"Tecido\",\n",
    "                           \"Tecido\", \"Tecido\", \"Sangue\", \"Sangue\"]"
   ]
  },
  {
   "cell_type": "code",
   "execution_count": 33,
   "metadata": {},
   "outputs": [
    {
     "name": "stdout",
     "output_type": "stream",
     "text": [
      "Lista de órgãos que podem ser doados no Brasil:\n",
      "[0]: \"Coração\" é do tipo \"Órgão\"\n",
      "[1]: \"Rins\" é do tipo \"Órgão\"\n",
      "[2]: \"Fígado\" é do tipo \"Órgão\"\n",
      "[3]: \"Pâncreas\" é do tipo \"Órgão\"\n",
      "[4]: \"Pulmões\" é do tipo \"Órgão\"\n",
      "[5]: \"Intestino\" é do tipo \"Órgão\"\n",
      "[6]: \"Córneas\" é do tipo \"Tecido\"\n",
      "[7]: \"Pele\" é do tipo \"Tecido\"\n",
      "[8]: \"Ossos\" é do tipo \"Tecido\"\n",
      "[9]: \"Válvulas cardíacas\" é do tipo \"Tecido\"\n",
      "[10]: \"Cartilagem\" é do tipo \"Tecido\"\n",
      "[11]: \"Medula Óssea\" é do tipo \"Tecido\"\n",
      "[12]: \"Tendões\" é do tipo \"Tecido\"\n",
      "[13]: \"Vasos Sanguíneos\" é do tipo \"Tecido\"\n",
      "[14]: \"Sangue de Cordão Umbilical\" é do tipo \"Sangue\"\n",
      "[15]: \"Sangue Universal\" é do tipo \"Sangue\"\n"
     ]
    }
   ],
   "source": [
    "#I.\n",
    "# Em range\n",
    "print(\"Lista de órgãos que podem ser doados no Brasil:\")\n",
    "for i in range(len(lista_de_orgaos)):\n",
    "    print(f\"[{i}]: \\\"{lista_de_orgaos[i]}\\\" é do tipo \\\"{lista_de_tipos_de_orgao[i]}\\\"\")"
   ]
  },
  {
   "cell_type": "code",
   "execution_count": 34,
   "metadata": {},
   "outputs": [
    {
     "name": "stdout",
     "output_type": "stream",
     "text": [
      "Lista de órgãos que podem ser doados no Brasil:\n",
      "[0]: \"Coração\"é do tipo \"Órgão\"\n",
      "[1]: \"Rins\"é do tipo \"Órgão\"\n",
      "[2]: \"Fígado\"é do tipo \"Órgão\"\n",
      "[3]: \"Pâncreas\"é do tipo \"Órgão\"\n",
      "[4]: \"Pulmões\"é do tipo \"Órgão\"\n",
      "[5]: \"Intestino\"é do tipo \"Órgão\"\n",
      "[6]: \"Córneas\"é do tipo \"Tecido\"\n",
      "[7]: \"Pele\"é do tipo \"Tecido\"\n",
      "[8]: \"Ossos\"é do tipo \"Tecido\"\n",
      "[9]: \"Válvulas cardíacas\"é do tipo \"Tecido\"\n",
      "[10]: \"Cartilagem\"é do tipo \"Tecido\"\n",
      "[11]: \"Medula Óssea\"é do tipo \"Tecido\"\n",
      "[12]: \"Tendões\"é do tipo \"Tecido\"\n",
      "[13]: \"Vasos Sanguíneos\"é do tipo \"Tecido\"\n",
      "[14]: \"Sangue de Cordão Umbilical\"é do tipo \"Sangue\"\n",
      "[15]: \"Sangue Universal\"é do tipo \"Sangue\"\n"
     ]
    }
   ],
   "source": [
    "#I.\n",
    "#Em list\n",
    "print(\"Lista de órgãos que podem ser doados no Brasil:\")\n",
    "i = 0\n",
    "for orgao in lista_de_orgaos:\n",
    "    print(f\"[{i}]: \\\"{orgao}\\\"é do tipo \\\"{lista_de_tipos_de_orgao[i]}\\\"\")\n",
    "    i += 1"
   ]
  },
  {
   "cell_type": "code",
   "execution_count": 35,
   "metadata": {},
   "outputs": [
    {
     "name": "stdout",
     "output_type": "stream",
     "text": [
      "Lista de órgãos que podem ser doados no Brasil:\n",
      "[0]: Coração é do tipo Órgão\n",
      "[1]: Rins é do tipo Órgão\n",
      "[2]: Fígado é do tipo Órgão\n",
      "[3]: Pâncreas é do tipo Órgão\n",
      "[4]: Pulmões é do tipo Órgão\n",
      "[5]: Intestino é do tipo Órgão\n",
      "[6]: Córneas é do tipo Tecido\n",
      "[7]: Pele é do tipo Tecido\n",
      "[8]: Ossos é do tipo Tecido\n",
      "[9]: Válvulas cardíacas é do tipo Tecido\n",
      "[10]: Cartilagem é do tipo Tecido\n",
      "[11]: Medula Óssea é do tipo Tecido\n",
      "[12]: Tendões é do tipo Tecido\n",
      "[13]: Vasos Sanguíneos é do tipo Tecido\n",
      "[14]: Sangue de Cordão Umbilical é do tipo Sangue\n",
      "[15]: Sangue Universal é do tipo Sangue\n"
     ]
    }
   ],
   "source": [
    "#I.\n",
    "print(\"Lista de órgãos que podem ser doados no Brasil:\")\n",
    "for i, orgao in enumerate(lista_de_orgaos):\n",
    "    print(f\"[{i}]: {orgao} é do tipo {lista_de_tipos_de_orgao[i]}\")"
   ]
  },
  {
   "cell_type": "code",
   "execution_count": null,
   "metadata": {},
   "outputs": [
    {
     "name": "stdout",
     "output_type": "stream",
     "text": [
      "Lista de órgãos que podem ser doados no Brasil:\n",
      "[0]: \"Coração\" é do tipo \"Órgão\"\n",
      "[1]: \"Rins\" é do tipo \"Órgão\"\n",
      "[2]: \"Fígado\" é do tipo \"Órgão\"\n",
      "[3]: \"Pâncreas\" é do tipo \"Órgão\"\n",
      "[4]: \"Pulmões\" é do tipo \"Órgão\"\n",
      "[5]: \"Intestino\" é do tipo \"Órgão\"\n",
      "[6]: \"Córneas\" é do tipo \"Tecido\"\n",
      "[7]: \"Pele\" é do tipo \"Tecido\"\n",
      "[8]: \"Ossos\" é do tipo \"Tecido\"\n",
      "[9]: \"Válvulas cardíacas\" é do tipo \"Tecido\"\n",
      "[10]: \"Cartilagem\" é do tipo \"Tecido\"\n",
      "[11]: \"Medula Óssea\" é do tipo \"Tecido\"\n",
      "[12]: \"Tendões\" é do tipo \"Tecido\"\n",
      "[13]: \"Vasos Sanguíneos\" é do tipo \"Tecido\"\n",
      "[14]: \"Sangue de Cordão Umbilical\" é do tipo \"Sangue\"\n",
      "[15]: \"Sangue Universal\" é do tipo \"Sangue\"\n"
     ]
    }
   ],
   "source": [
    "#II.\n",
    "print(\"Lista de órgãos que podem ser doados no Brasil:\")\n",
    "for i, (orgao, tipo) in enumerate(zip(lista_de_orgaos, lista_de_tipos_de_orgao)):\n",
    "    print(f\"[{i}]: \\\"{orgao}\\\" é do tipo \\\"{lista_de_tipos_de_orgao[i]}\\\"\")"
   ]
  },
  {
   "cell_type": "markdown",
   "metadata": {},
   "source": [
    "### 8. Considere a tabela abaixo com o tempo de esquemia dos seguintes órgãos:\n",
    "\n",
    "| Órgão             | Coração   | Pulmão        | Rim\t    | Fígado    | Pâncreas\t| Instestino    |\n",
    "|-------------------|-----------|---------------|-----------|-----------|-----------|---------------|\n",
    "| Tempo de isquemia | 04 horas\t| 04 a 06 horas\t| 48 horas\t| 12 horas  | 12 horas\t| 04 a 06 horas |\n",
    "\n",
    "Imprima uma mensagem personalizada para os órgãos que possuem tempos de esquemia conforme essa tabela.\n",
    "\n",
    "\n",
    "#### Referência: [08_for_loop_if_equals.ipynb](../08_for_loop_if_equals.ipynb)\n",
    "---"
   ]
  },
  {
   "cell_type": "code",
   "execution_count": 36,
   "metadata": {},
   "outputs": [
    {
     "name": "stdout",
     "output_type": "stream",
     "text": [
      "O tempo de isquemia do Coração é de aproximadamente 04 horas. \n",
      "O tempo de isquemia do Pulmões é de aproximadamente 04 a 06 horas. \n",
      "O tempo de isquemia do Rins é de aproximadamente 48 horas. \n",
      "O tempo de isquemia do Fígado é de aproximadamente 12 horas. \n",
      "O tempo de isquemia do Pâncreas é de aproximadamente 12 horas. \n",
      "O tempo de isquemia do Intestino é de aproximadamente 04 a 06 horas. \n"
     ]
    }
   ],
   "source": [
    "lista_de_orgaos = [\"Coração\", \"Pulmões\", \"Rins\",  \"Fígado\", \"Pâncreas\", \"Intestino\",]\n",
    "tempo_de_isquemia = [\"04 horas\",\"04 a 06 horas\", \"48 horas\", \"12 horas\", \"12 horas\", \"04 a 06 horas\"]\n",
    "for i in range(len(lista_de_orgaos)):\n",
    "    print(f\"O tempo de isquemia do {lista_de_orgaos[i]} é de aproximadamente {tempo_de_isquemia[i]}. \")"
   ]
  },
  {
   "cell_type": "markdown",
   "metadata": {},
   "source": [
    "### 9. Considere as tabelas de isquemia abaixo:\n",
    "\n",
    "I. Você quer imprimir uma mensagem personalizada para os órgãos com tempo de isquemia igual a 4 horas:\n",
    "\n",
    "| Órgão             | Coração   | Pulmão        | Rim\t    | Fígado    | Pâncreas\t| Instestino    |\n",
    "|-------------------|-----------|---------------|-----------|-----------|-----------|---------------|\n",
    "| Tempo de isquemia | 04 horas\t| 04 a 06 horas\t| 48 horas\t| 12 horas  | 12 horas\t| 04 a 06 horas |\n",
    "\n",
    "II. Você quer imprimir uma mensagem personalizada para os órgãos com tempo de isquemia menor que 12 horas:\n",
    "\n",
    "| Órgão             | Coração   | Pulmão        | Rim\t    | Fígado    | Pâncreas\t| Instestino    |\n",
    "|-------------------|-----------|---------------|-----------|-----------|-----------|---------------|\n",
    "| Tempo de isquemia | 04 horas\t| 04 a 06 horas\t| 48 horas\t| 12 horas  | 12 horas\t| 04 a 06 horas |\n",
    "\n",
    "\n",
    "#### Referência: [09_for_search.ipynb](../09_for_search.ipynb)\n",
    "---"
   ]
  },
  {
   "cell_type": "code",
   "execution_count": 37,
   "metadata": {},
   "outputs": [
    {
     "name": "stdout",
     "output_type": "stream",
     "text": [
      "O tempo de isquemia do Coração é de aproximadamente 4 horas.\n"
     ]
    }
   ],
   "source": [
    "#I.\n",
    "lista_de_orgaos = [\"Coração\", \"Pulmões\", \"Rins\",  \"Fígado\", \"Pâncreas\", \"Intestino\",]\n",
    "tempo_de_isquemia = [\"4\", \"4 a 6\", \"48\", \"12\", \"12\", \"4 a 6\"] \n",
    "\n",
    "for i, (orgao, tempo) in enumerate(zip(lista_de_orgaos, tempo_de_isquemia)):\n",
    "    if tempo == \"4\":\n",
    "        print(f\"O tempo de isquemia do {orgao} é de aproximadamente {tempo} horas.\")"
   ]
  },
  {
   "cell_type": "code",
   "execution_count": 38,
   "metadata": {},
   "outputs": [
    {
     "name": "stdout",
     "output_type": "stream",
     "text": [
      "O tempo de isquemia do Coração é de aproximadamente 4 horas.\n",
      "O tempo de isquemia do Pulmões é de aproximadamente 4 a 6 horas.\n",
      "O tempo de isquemia do Intestino é de aproximadamente 4 a 6 horas.\n"
     ]
    }
   ],
   "source": [
    "#II.\n",
    "lista_de_orgaos = [\"Coração\", \"Pulmões\", \"Rins\",  \"Fígado\", \"Pâncreas\", \"Intestino\",]\n",
    "tempo_de_isquemia = [4, (4, 6), 48, 12, 12, (4, 6)] \n",
    "\n",
    "for orgao, tempo in zip(lista_de_orgaos, tempo_de_isquemia):\n",
    "    if isinstance(tempo, tuple):  # Verifica se tempo é uma tupla\n",
    "        min_tempo, max_tempo = tempo\n",
    "        print(f\"O tempo de isquemia do {orgao} é de aproximadamente {min_tempo} a {max_tempo} horas.\")\n",
    "    elif tempo < 12:  # Se for um número, faz a verificação normal\n",
    "        print(f\"O tempo de isquemia do {orgao} é de aproximadamente {tempo} horas.\")"
   ]
  },
  {
   "cell_type": "markdown",
   "metadata": {},
   "source": [
    "### 10. Utilizando o FOR LOOP para alterar elementos da lista\n",
    "\n",
    "I. Altere as capitais removendo os espaços em branco.\n",
    "\n",
    "II. Altere as capitais removendo acentos.\n",
    "\n",
    "III. Faça a validação se todos os caracteres são letras do alfabeto.\n",
    "\n",
    "\n",
    "#### Referência: [10_for_change_list.ipynb](../10_for_change_list.ipynb)\n",
    "---"
   ]
  },
  {
   "cell_type": "code",
   "execution_count": 39,
   "metadata": {},
   "outputs": [],
   "source": [
    "# Lista das capitais do Brasil\n",
    "capitais_brasil = [\n",
    "    \"Rio Branco\", \"Maceió\", \"Macapá\", \"Manaus\", \"Salvador\", \"Fortaleza\",\n",
    "    \"Brasília\", \"Vitória\", \"Goiânia\", \"São Luís\", \"Cuiabá\", \"Campo Grande\",\n",
    "    \"Belo Horizonte\", \"Belém\", \"João Pessoa\", \"Curitiba\", \"Recife\",\n",
    "    \"Teresina\", \"Rio de Janeiro\", \"Natal\", \"Porto Alegre\", \"Porto Velho\",\n",
    "    \"Boa Vista\", \"Florianópolis\", \"São Paulo\", \"Aracaju\", \"Palmas\"\n",
    "]"
   ]
  },
  {
   "cell_type": "code",
   "execution_count": 40,
   "metadata": {},
   "outputs": [
    {
     "name": "stdout",
     "output_type": "stream",
     "text": [
      "['RioBranco', 'Maceió', 'Macapá', 'Manaus', 'Salvador', 'Fortaleza', 'Brasília', 'Vitória', 'Goiânia', 'SãoLuís', 'Cuiabá', 'CampoGrande', 'BeloHorizonte', 'Belém', 'JoãoPessoa', 'Curitiba', 'Recife', 'Teresina', 'RiodeJaneiro', 'Natal', 'PortoAlegre', 'PortoVelho', 'BoaVista', 'Florianópolis', 'SãoPaulo', 'Aracaju', 'Palmas']\n"
     ]
    }
   ],
   "source": [
    "#I.\n",
    "for i in range(len(capitais_brasil)):\n",
    "    capitais_brasil[i] = capitais_brasil[i].replace(\" \", \"\")\n",
    "print(capitais_brasil)"
   ]
  },
  {
   "cell_type": "code",
   "execution_count": 41,
   "metadata": {},
   "outputs": [
    {
     "name": "stdout",
     "output_type": "stream",
     "text": [
      "['RioBranco', 'Maceio', 'Macapa', 'Manaus', 'Salvador', 'Fortaleza', 'Brasilia', 'Vitoria', 'Goiania', 'SaoLuis', 'Cuiaba', 'CampoGrande', 'BeloHorizonte', 'Belem', 'JoaoPessoa', 'Curitiba', 'Recife', 'Teresina', 'RiodeJaneiro', 'Natal', 'PortoAlegre', 'PortoVelho', 'BoaVista', 'Florianopolis', 'SaoPaulo', 'Aracaju', 'Palmas']\n"
     ]
    }
   ],
   "source": [
    "#II.\n",
    "from unidecode import unidecode\n",
    "\n",
    "for i in range(len(capitais_brasil)):\n",
    "    capitais_brasil[i] = unidecode(capitais_brasil[i])\n",
    "print(capitais_brasil)"
   ]
  },
  {
   "cell_type": "code",
   "execution_count": 43,
   "metadata": {},
   "outputs": [
    {
     "name": "stdout",
     "output_type": "stream",
     "text": [
      "A capital 'RioBranco' contém apenas caracteres alfabéticos.\n",
      "A capital 'Maceio' contém apenas caracteres alfabéticos.\n",
      "A capital 'Macapa' contém apenas caracteres alfabéticos.\n",
      "A capital 'Manaus' contém apenas caracteres alfabéticos.\n",
      "A capital 'Salvador' contém apenas caracteres alfabéticos.\n",
      "A capital 'Fortaleza' contém apenas caracteres alfabéticos.\n",
      "A capital 'Brasilia' contém apenas caracteres alfabéticos.\n",
      "A capital 'Vitoria' contém apenas caracteres alfabéticos.\n",
      "A capital 'Goiania' contém apenas caracteres alfabéticos.\n",
      "A capital 'SaoLuis' contém apenas caracteres alfabéticos.\n",
      "A capital 'Cuiaba' contém apenas caracteres alfabéticos.\n",
      "A capital 'CampoGrande' contém apenas caracteres alfabéticos.\n",
      "A capital 'BeloHorizonte' contém apenas caracteres alfabéticos.\n",
      "A capital 'Belem' contém apenas caracteres alfabéticos.\n",
      "A capital 'JoaoPessoa' contém apenas caracteres alfabéticos.\n",
      "A capital 'Curitiba' contém apenas caracteres alfabéticos.\n",
      "A capital 'Recife' contém apenas caracteres alfabéticos.\n",
      "A capital 'Teresina' contém apenas caracteres alfabéticos.\n",
      "A capital 'RiodeJaneiro' contém apenas caracteres alfabéticos.\n",
      "A capital 'Natal' contém apenas caracteres alfabéticos.\n",
      "A capital 'PortoAlegre' contém apenas caracteres alfabéticos.\n",
      "A capital 'PortoVelho' contém apenas caracteres alfabéticos.\n",
      "A capital 'BoaVista' contém apenas caracteres alfabéticos.\n",
      "A capital 'Florianopolis' contém apenas caracteres alfabéticos.\n",
      "A capital 'SaoPaulo' contém apenas caracteres alfabéticos.\n",
      "A capital 'Aracaju' contém apenas caracteres alfabéticos.\n",
      "A capital 'Palmas' contém apenas caracteres alfabéticos.\n"
     ]
    }
   ],
   "source": [
    "#III.\n",
    "# Verificando cada capital\n",
    "for capital in capitais_brasil:\n",
    "    if not capital.isalpha():  # Se a capital NÃO contém apenas letras\n",
    "        print(f\"A capital '{capital}' contém os seguintes caracteres não alfabéticos:\")\n",
    "        for caractere in capital:\n",
    "            if not caractere.isalpha():  # Se o caractere NÃO é uma letra\n",
    "                print(f\"- '{caractere}'\")\n",
    "    else:\n",
    "        print(f\"A capital '{capital}' contém apenas caracteres alfabéticos.\")"
   ]
  },
  {
   "cell_type": "markdown",
   "metadata": {},
   "source": [
    "### 11. Considerando a lista de capitais, crie listas de capitais de acordo com os estados brasileiros (norte, nordeste, centro-oeste, sudeste, sul e distrito federal).\n",
    "\n",
    "#### Referência: [11_for_create_list.ipynb](../11_for_create_list.ipynb)\n",
    "---"
   ]
  },
  {
   "cell_type": "code",
   "execution_count": 44,
   "metadata": {},
   "outputs": [],
   "source": [
    "# Lista das capitais do Brasil\n",
    "capitais_brasil = [\n",
    "    \"Rio Branco\", \"Maceió\", \"Macapá\", \"Manaus\", \"Salvador\", \"Fortaleza\",\n",
    "    \"Brasília\", \"Vitória\", \"Goiânia\", \"São Luís\", \"Cuiabá\", \"Campo Grande\",\n",
    "    \"Belo Horizonte\", \"Belém\", \"João Pessoa\", \"Curitiba\", \"Recife\",\n",
    "    \"Teresina\", \"Rio de Janeiro\", \"Natal\", \"Porto Alegre\", \"Porto Velho\",\n",
    "    \"Boa Vista\", \"Florianópolis\", \"São Paulo\", \"Aracaju\", \"Palmas\"\n",
    "]\n",
    "# Lista dos estados do Brasil\n",
    "regioes_brasil = [\n",
    "        \"Norte\", \"Nordeste\", \"Norte\", \"Norte\", \"Nordeste\", \"Nordeste\", \n",
    "        \"Distrito_federal\", \"Sudeste\", \"Centro-Oeste\", \"Nordeste\", \"Centro-Oeste\", \n",
    "        \"Centro-Oeste\", \"Sudeste\",\"Norte\", \"Nordeste\", \"Sul\", \"Nordeste\", \n",
    "        \"Nordeste\", \"Sudeste\", \"Nordeste\", \"Sul\", \"Norte\", \"Norte\", \"Sul\", \n",
    "        \"Sudeste\", \"Nordeste\", \"Norte\"\n",
    "]"
   ]
  },
  {
   "cell_type": "code",
   "execution_count": 45,
   "metadata": {},
   "outputs": [
    {
     "name": "stdout",
     "output_type": "stream",
     "text": [
      "Lista de Capitais da Região Norte ['Rio Branco', 'Macapá', 'Manaus', 'Belém', 'Porto Velho', 'Boa Vista', 'Palmas']\n",
      "Lista de Capitais da Região Nordeste ['Maceió', 'Salvador', 'Fortaleza', 'São Luís', 'João Pessoa', 'Recife', 'Teresina', 'Natal', 'Aracaju']\n",
      "Lista de Capitais da Região Centro-Oeste ['Goiânia', 'Cuiabá', 'Campo Grande']\n",
      "Lista de Capitais da Região Sudeste ['Vitória', 'Belo Horizonte', 'Rio de Janeiro', 'São Paulo']\n",
      "Lista de Capitais da Região Sul ['Curitiba', 'Porto Alegre', 'Florianópolis']\n",
      "Lista de Capitais da Região Distrito Federal ['Brasília']\n"
     ]
    }
   ],
   "source": [
    "\n",
    "# inicia as listas como vazias\n",
    "Norte = []\n",
    "Nordeste = []\n",
    "Centro_oeste = []\n",
    "Sudeste = []\n",
    "Sul = []\n",
    "Distrito_federal = []\n",
    "\n",
    "# para cada capital na lista de capitais\n",
    "for i, capital in enumerate(capitais_brasil):\n",
    "  # obtem capital e estados \n",
    "  capital_atual = capitais_brasil[i]\n",
    "  regiao_atual = regioes_brasil[i] \n",
    "  #verifica se é \"Norte\", \"Nordeste\", \"Centro-Oeste\", \"Sudeste\" ou \"Sul\"\n",
    "  if regiao_atual == \"Norte\":\n",
    "    Norte.append(capital_atual)\n",
    "   \n",
    "  elif regiao_atual == \"Nordeste\":\n",
    "    Nordeste.append(capital_atual)\n",
    "    \n",
    "  elif regiao_atual == \"Centro-Oeste\":\n",
    "    Centro_oeste.append(capital_atual)\n",
    "    \n",
    "  elif regiao_atual == \"Sudeste\":\n",
    "    Sudeste.append(capital_atual)\n",
    "    \n",
    "  elif regiao_atual == \"Sul\":\n",
    "    Sul.append(capital_atual)\n",
    "    \n",
    "  else:\n",
    "    Distrito_federal.append(capital_atual)\n",
    "    \n",
    "\n",
    "# imprime as listas de capitais por região\n",
    "print(f\"Lista de Capitais da Região Norte {Norte}\")\n",
    "print(f\"Lista de Capitais da Região Nordeste {Nordeste}\")\n",
    "print(f\"Lista de Capitais da Região Centro-Oeste {Centro_oeste}\")\n",
    "print(f\"Lista de Capitais da Região Sudeste {Sudeste}\")\n",
    "print(f\"Lista de Capitais da Região Sul {Sul}\")\n",
    "print(f\"Lista de Capitais da Região Distrito Federal {Distrito_federal}\")"
   ]
  }
 ],
 "metadata": {
  "kernelspec": {
   "display_name": "Python 3",
   "language": "python",
   "name": "python3"
  },
  "language_info": {
   "codemirror_mode": {
    "name": "ipython",
    "version": 3
   },
   "file_extension": ".py",
   "mimetype": "text/x-python",
   "name": "python",
   "nbconvert_exporter": "python",
   "pygments_lexer": "ipython3",
   "version": "3.13.1"
  }
 },
 "nbformat": 4,
 "nbformat_minor": 2
}
